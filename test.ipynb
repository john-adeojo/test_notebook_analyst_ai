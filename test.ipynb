{
 "cells": [
  {
   "cell_type": "code",
   "execution_count": 1,
   "id": "fda9e627-6203-4c6e-a664-e848d15fc430",
   "metadata": {},
   "outputs": [],
   "source": [
    "import pandas as pd"
   ]
  },
  {
   "cell_type": "code",
   "execution_count": 2,
   "id": "9de1a720-bafc-455c-ba5a-dd42cfdda0fc",
   "metadata": {},
   "outputs": [],
   "source": [
    "df = pd.read_csv(\"https://raw.githubusercontent.com/john-adeojo/ai_analyst/main/datasets/CO2%20Emissions_Canada.csv?token=GHSAT0AAAAAACEB32AYAMCX36IMVKRCHBOAZFLI34A\")"
   ]
  },
  {
   "cell_type": "markdown",
   "id": "d1f4454c-9f76-4cfd-9bbc-29b0aececbfb",
   "metadata": {},
   "source": [
    "# Test Group 1 - Univariate Statistics"
   ]
  },
  {
   "cell_type": "markdown",
   "id": "eaee5c9b-eba4-4be3-ae02-87311f707e6d",
   "metadata": {},
   "source": [
    "## Which vehicle has the highest co2 emissions on average?"
   ]
  },
  {
   "cell_type": "code",
   "execution_count": 3,
   "id": "fce92110-8b49-4955-a0a3-9952b02355fc",
   "metadata": {},
   "outputs": [
    {
     "data": {
      "text/html": [
       "<div>\n",
       "<style scoped>\n",
       "    .dataframe tbody tr th:only-of-type {\n",
       "        vertical-align: middle;\n",
       "    }\n",
       "\n",
       "    .dataframe tbody tr th {\n",
       "        vertical-align: top;\n",
       "    }\n",
       "\n",
       "    .dataframe thead th {\n",
       "        text-align: right;\n",
       "    }\n",
       "</style>\n",
       "<table border=\"1\" class=\"dataframe\">\n",
       "  <thead>\n",
       "    <tr style=\"text-align: right;\">\n",
       "      <th></th>\n",
       "      <th>CO2 Emissions(g/km)</th>\n",
       "    </tr>\n",
       "    <tr>\n",
       "      <th>Vehicle</th>\n",
       "      <th></th>\n",
       "    </tr>\n",
       "  </thead>\n",
       "  <tbody>\n",
       "    <tr>\n",
       "      <th>BUGATTI CHIRON</th>\n",
       "      <td>522.0</td>\n",
       "    </tr>\n",
       "  </tbody>\n",
       "</table>\n",
       "</div>"
      ],
      "text/plain": [
       "                CO2 Emissions(g/km)\n",
       "Vehicle                            \n",
       "BUGATTI CHIRON                522.0"
      ]
     },
     "execution_count": 3,
     "metadata": {},
     "output_type": "execute_result"
    }
   ],
   "source": [
    "highest_avg_emissions = df[[\"Vehicle\", \"CO2 Emissions(g/km)\"]].groupby(\"Vehicle\").mean().sort_values(by=\"CO2 Emissions(g/km)\", ascending=False).head(1)\n",
    "highest_avg_emissions"
   ]
  },
  {
   "cell_type": "markdown",
   "id": "ab6f1462-d797-4812-bfe3-549215668e71",
   "metadata": {},
   "source": [
    "## Which vehicle has the lowest co2 emissions on average?"
   ]
  },
  {
   "cell_type": "code",
   "execution_count": 4,
   "id": "e6ac6c53-4583-4d53-89f1-9ef3d3bb74b2",
   "metadata": {},
   "outputs": [
    {
     "data": {
      "text/html": [
       "<div>\n",
       "<style scoped>\n",
       "    .dataframe tbody tr th:only-of-type {\n",
       "        vertical-align: middle;\n",
       "    }\n",
       "\n",
       "    .dataframe tbody tr th {\n",
       "        vertical-align: top;\n",
       "    }\n",
       "\n",
       "    .dataframe thead th {\n",
       "        text-align: right;\n",
       "    }\n",
       "</style>\n",
       "<table border=\"1\" class=\"dataframe\">\n",
       "  <thead>\n",
       "    <tr style=\"text-align: right;\">\n",
       "      <th></th>\n",
       "      <th>CO2 Emissions(g/km)</th>\n",
       "    </tr>\n",
       "    <tr>\n",
       "      <th>Vehicle</th>\n",
       "      <th></th>\n",
       "    </tr>\n",
       "  </thead>\n",
       "  <tbody>\n",
       "    <tr>\n",
       "      <th>HYUNDAI IONIQ BLUE</th>\n",
       "      <td>96.0</td>\n",
       "    </tr>\n",
       "  </tbody>\n",
       "</table>\n",
       "</div>"
      ],
      "text/plain": [
       "                    CO2 Emissions(g/km)\n",
       "Vehicle                                \n",
       "HYUNDAI IONIQ BLUE                 96.0"
      ]
     },
     "execution_count": 4,
     "metadata": {},
     "output_type": "execute_result"
    }
   ],
   "source": [
    "Lowest_avg_emissions = df[[\"Vehicle\", \"CO2 Emissions(g/km)\"]].groupby(\"Vehicle\").mean().sort_values(by=\"CO2 Emissions(g/km)\", ascending=True).head(1)\n",
    "Lowest_avg_emissions"
   ]
  },
  {
   "cell_type": "code",
   "execution_count": 5,
   "id": "69fb9367-bd12-4022-8445-3d8b48c79219",
   "metadata": {},
   "outputs": [],
   "source": [
    "## which brand has the lowest average emissions?"
   ]
  },
  {
   "cell_type": "code",
   "execution_count": 6,
   "id": "c95ba306-7e88-436e-bd11-f2fb46ec9d36",
   "metadata": {},
   "outputs": [
    {
     "data": {
      "text/html": [
       "<div>\n",
       "<style scoped>\n",
       "    .dataframe tbody tr th:only-of-type {\n",
       "        vertical-align: middle;\n",
       "    }\n",
       "\n",
       "    .dataframe tbody tr th {\n",
       "        vertical-align: top;\n",
       "    }\n",
       "\n",
       "    .dataframe thead th {\n",
       "        text-align: right;\n",
       "    }\n",
       "</style>\n",
       "<table border=\"1\" class=\"dataframe\">\n",
       "  <thead>\n",
       "    <tr style=\"text-align: right;\">\n",
       "      <th></th>\n",
       "      <th>CO2 Emissions(g/km)</th>\n",
       "    </tr>\n",
       "    <tr>\n",
       "      <th>Brand</th>\n",
       "      <th></th>\n",
       "    </tr>\n",
       "  </thead>\n",
       "  <tbody>\n",
       "    <tr>\n",
       "      <th>SMART</th>\n",
       "      <td>151.428571</td>\n",
       "    </tr>\n",
       "  </tbody>\n",
       "</table>\n",
       "</div>"
      ],
      "text/plain": [
       "       CO2 Emissions(g/km)\n",
       "Brand                     \n",
       "SMART           151.428571"
      ]
     },
     "execution_count": 6,
     "metadata": {},
     "output_type": "execute_result"
    }
   ],
   "source": [
    "Lowest_avg_emissions_brand = df[[\"Brand\", \"CO2 Emissions(g/km)\"]].groupby(\"Brand\").mean().sort_values(by=\"CO2 Emissions(g/km)\", ascending=True).head(1)\n",
    "Lowest_avg_emissions_brand"
   ]
  },
  {
   "cell_type": "code",
   "execution_count": 7,
   "id": "db30e7d7-2218-49db-81ec-db3c38731711",
   "metadata": {},
   "outputs": [
    {
     "data": {
      "text/html": [
       "<div>\n",
       "<style scoped>\n",
       "    .dataframe tbody tr th:only-of-type {\n",
       "        vertical-align: middle;\n",
       "    }\n",
       "\n",
       "    .dataframe tbody tr th {\n",
       "        vertical-align: top;\n",
       "    }\n",
       "\n",
       "    .dataframe thead th {\n",
       "        text-align: right;\n",
       "    }\n",
       "</style>\n",
       "<table border=\"1\" class=\"dataframe\">\n",
       "  <thead>\n",
       "    <tr style=\"text-align: right;\">\n",
       "      <th></th>\n",
       "      <th>CO2 Emissions(g/km)</th>\n",
       "    </tr>\n",
       "    <tr>\n",
       "      <th>Brand</th>\n",
       "      <th></th>\n",
       "    </tr>\n",
       "  </thead>\n",
       "  <tbody>\n",
       "    <tr>\n",
       "      <th>BUGATTI</th>\n",
       "      <td>522.0</td>\n",
       "    </tr>\n",
       "  </tbody>\n",
       "</table>\n",
       "</div>"
      ],
      "text/plain": [
       "         CO2 Emissions(g/km)\n",
       "Brand                       \n",
       "BUGATTI                522.0"
      ]
     },
     "execution_count": 7,
     "metadata": {},
     "output_type": "execute_result"
    }
   ],
   "source": [
    "Highest_avg_emissions_brand = df[[\"Brand\", \"CO2 Emissions(g/km)\"]].groupby(\"Brand\").mean().sort_values(by=\"CO2 Emissions(g/km)\", ascending=False).head(1)\n",
    "Highest_avg_emissions_brand"
   ]
  },
  {
   "cell_type": "markdown",
   "id": "44abaf7f-871a-4af9-b618-ddb110c9bb51",
   "metadata": {},
   "source": [
    "# Test Group 2 - Bi-variate Analysis"
   ]
  },
  {
   "cell_type": "markdown",
   "id": "3354ae75-d55e-4108-9e10-283aa556dd47",
   "metadata": {},
   "source": [
    "## Which vehicle  has the highest ratio of emissions to engine size?"
   ]
  },
  {
   "cell_type": "code",
   "execution_count": 8,
   "id": "f927b539-939e-4fb0-82a8-9129ff3a78a2",
   "metadata": {},
   "outputs": [
    {
     "data": {
      "text/html": [
       "<div>\n",
       "<style scoped>\n",
       "    .dataframe tbody tr th:only-of-type {\n",
       "        vertical-align: middle;\n",
       "    }\n",
       "\n",
       "    .dataframe tbody tr th {\n",
       "        vertical-align: top;\n",
       "    }\n",
       "\n",
       "    .dataframe thead th {\n",
       "        text-align: right;\n",
       "    }\n",
       "</style>\n",
       "<table border=\"1\" class=\"dataframe\">\n",
       "  <thead>\n",
       "    <tr style=\"text-align: right;\">\n",
       "      <th></th>\n",
       "      <th>Vehicle</th>\n",
       "      <th>emissions per litre</th>\n",
       "    </tr>\n",
       "  </thead>\n",
       "  <tbody>\n",
       "    <tr>\n",
       "      <th>6777</th>\n",
       "      <td>FORD EcoSport</td>\n",
       "      <td>197.0</td>\n",
       "    </tr>\n",
       "  </tbody>\n",
       "</table>\n",
       "</div>"
      ],
      "text/plain": [
       "            Vehicle  emissions per litre\n",
       "6777  FORD EcoSport                197.0"
      ]
     },
     "execution_count": 8,
     "metadata": {},
     "output_type": "execute_result"
    }
   ],
   "source": [
    "df[\"emissions per litre\"] = df[\"CO2 Emissions(g/km)\"]/df[\"Engine Size(L)\"]\n",
    "Highest_avg_emissions_per_litre = df[[\"Vehicle\", \"emissions per litre\"]].sort_values(by=\"emissions per litre\", ascending=False).head(1)\n",
    "Highest_avg_emissions_per_litre"
   ]
  },
  {
   "cell_type": "markdown",
   "id": "5a1e0cb7-ab66-48dc-a8af-240706709b36",
   "metadata": {},
   "source": [
    "## Which vehicle has the lowest ratio of emissions to engine size?"
   ]
  },
  {
   "cell_type": "code",
   "execution_count": 9,
   "id": "9b84456e-94c8-435c-adf3-0514865d87e7",
   "metadata": {},
   "outputs": [
    {
     "data": {
      "text/html": [
       "<div>\n",
       "<style scoped>\n",
       "    .dataframe tbody tr th:only-of-type {\n",
       "        vertical-align: middle;\n",
       "    }\n",
       "\n",
       "    .dataframe tbody tr th {\n",
       "        vertical-align: top;\n",
       "    }\n",
       "\n",
       "    .dataframe thead th {\n",
       "        text-align: right;\n",
       "    }\n",
       "</style>\n",
       "<table border=\"1\" class=\"dataframe\">\n",
       "  <thead>\n",
       "    <tr style=\"text-align: right;\">\n",
       "      <th></th>\n",
       "      <th>Vehicle</th>\n",
       "      <th>emissions per litre</th>\n",
       "    </tr>\n",
       "  </thead>\n",
       "  <tbody>\n",
       "    <tr>\n",
       "      <th>1304</th>\n",
       "      <td>CHEVROLET CORVETTE</td>\n",
       "      <td>41.612903</td>\n",
       "    </tr>\n",
       "  </tbody>\n",
       "</table>\n",
       "</div>"
      ],
      "text/plain": [
       "                 Vehicle  emissions per litre\n",
       "1304  CHEVROLET CORVETTE            41.612903"
      ]
     },
     "execution_count": 9,
     "metadata": {},
     "output_type": "execute_result"
    }
   ],
   "source": [
    "df[\"emissions per litre\"] = df[\"CO2 Emissions(g/km)\"]/df[\"Engine Size(L)\"]\n",
    "Highest_avg_emissions_per_litre = df[[\"Vehicle\", \"emissions per litre\"]].sort_values(by=\"emissions per litre\", ascending=True).head(1)\n",
    "Highest_avg_emissions_per_litre"
   ]
  },
  {
   "cell_type": "markdown",
   "id": "e38ac910-595c-48bf-84fd-c1cde94b46fd",
   "metadata": {},
   "source": [
    "# Test Group 3 - Higher lever reasoning\n"
   ]
  },
  {
   "cell_type": "markdown",
   "id": "863a895c-0d6d-4c7d-9d9b-fea7f808f7eb",
   "metadata": {},
   "source": [
    "## which vehicle is the most fuel efficient?"
   ]
  },
  {
   "cell_type": "code",
   "execution_count": 10,
   "id": "d5a517fa-ba5f-4f10-b7b9-b3b5e17ec6ee",
   "metadata": {},
   "outputs": [
    {
     "data": {
      "text/html": [
       "<div>\n",
       "<style scoped>\n",
       "    .dataframe tbody tr th:only-of-type {\n",
       "        vertical-align: middle;\n",
       "    }\n",
       "\n",
       "    .dataframe tbody tr th {\n",
       "        vertical-align: top;\n",
       "    }\n",
       "\n",
       "    .dataframe thead th {\n",
       "        text-align: right;\n",
       "    }\n",
       "</style>\n",
       "<table border=\"1\" class=\"dataframe\">\n",
       "  <thead>\n",
       "    <tr style=\"text-align: right;\">\n",
       "      <th></th>\n",
       "      <th>Brand</th>\n",
       "      <th>Vehicle</th>\n",
       "      <th>Vehicle Type</th>\n",
       "      <th>Engine Size(L)</th>\n",
       "      <th>Cylinders</th>\n",
       "      <th>Fuel Type</th>\n",
       "      <th>Fuel Consumption City (L/100 km)</th>\n",
       "      <th>Fuel Consumption Hwy (L/100 km)</th>\n",
       "      <th>Fuel Consumption Comb (L/100 km)</th>\n",
       "      <th>Fuel Consumption Comb (mpg)</th>\n",
       "      <th>CO2 Emissions(g/km)</th>\n",
       "      <th>emissions per litre</th>\n",
       "    </tr>\n",
       "  </thead>\n",
       "  <tbody>\n",
       "    <tr>\n",
       "      <th>6950</th>\n",
       "      <td>HYUNDAI</td>\n",
       "      <td>HYUNDAI IONIQ Blue</td>\n",
       "      <td>FULL-SIZE</td>\n",
       "      <td>1.6</td>\n",
       "      <td>4</td>\n",
       "      <td>X</td>\n",
       "      <td>4.2</td>\n",
       "      <td>4.0</td>\n",
       "      <td>4.1</td>\n",
       "      <td>69</td>\n",
       "      <td>96</td>\n",
       "      <td>60.0</td>\n",
       "    </tr>\n",
       "  </tbody>\n",
       "</table>\n",
       "</div>"
      ],
      "text/plain": [
       "        Brand             Vehicle Vehicle Type  Engine Size(L)  Cylinders  \\\n",
       "6950  HYUNDAI  HYUNDAI IONIQ Blue    FULL-SIZE             1.6          4   \n",
       "\n",
       "     Fuel Type  Fuel Consumption City (L/100 km)  \\\n",
       "6950         X                               4.2   \n",
       "\n",
       "      Fuel Consumption Hwy (L/100 km)  Fuel Consumption Comb (L/100 km)  \\\n",
       "6950                              4.0                               4.1   \n",
       "\n",
       "      Fuel Consumption Comb (mpg)  CO2 Emissions(g/km)  emissions per litre  \n",
       "6950                           69                   96                 60.0  "
      ]
     },
     "execution_count": 10,
     "metadata": {},
     "output_type": "execute_result"
    }
   ],
   "source": [
    "most_fuel_efficent = df.sort_values(by=\"Fuel Consumption Comb (mpg)\", ascending=False).head(1)\n",
    "most_fuel_efficent"
   ]
  },
  {
   "cell_type": "markdown",
   "id": "ab01d88b-6fa0-4f1a-86f3-9e3eefb2b7b2",
   "metadata": {},
   "source": [
    "## which car is the least fuel efficient?"
   ]
  },
  {
   "cell_type": "code",
   "execution_count": 11,
   "id": "a7fd6988-6130-47d5-b46f-b28c3d8778bf",
   "metadata": {},
   "outputs": [
    {
     "data": {
      "text/html": [
       "<div>\n",
       "<style scoped>\n",
       "    .dataframe tbody tr th:only-of-type {\n",
       "        vertical-align: middle;\n",
       "    }\n",
       "\n",
       "    .dataframe tbody tr th {\n",
       "        vertical-align: top;\n",
       "    }\n",
       "\n",
       "    .dataframe thead th {\n",
       "        text-align: right;\n",
       "    }\n",
       "</style>\n",
       "<table border=\"1\" class=\"dataframe\">\n",
       "  <thead>\n",
       "    <tr style=\"text-align: right;\">\n",
       "      <th></th>\n",
       "      <th>Brand</th>\n",
       "      <th>Vehicle</th>\n",
       "      <th>Vehicle Type</th>\n",
       "      <th>Engine Size(L)</th>\n",
       "      <th>Cylinders</th>\n",
       "      <th>Fuel Type</th>\n",
       "      <th>Fuel Consumption City (L/100 km)</th>\n",
       "      <th>Fuel Consumption Hwy (L/100 km)</th>\n",
       "      <th>Fuel Consumption Comb (L/100 km)</th>\n",
       "      <th>Fuel Consumption Comb (mpg)</th>\n",
       "      <th>CO2 Emissions(g/km)</th>\n",
       "      <th>emissions per litre</th>\n",
       "    </tr>\n",
       "  </thead>\n",
       "  <tbody>\n",
       "    <tr>\n",
       "      <th>228</th>\n",
       "      <td>CHEVROLET</td>\n",
       "      <td>CHEVROLET EXPRESS 3500 PASSENGER</td>\n",
       "      <td>VAN - PASSENGER</td>\n",
       "      <td>6.0</td>\n",
       "      <td>8</td>\n",
       "      <td>E</td>\n",
       "      <td>30.2</td>\n",
       "      <td>20.5</td>\n",
       "      <td>25.8</td>\n",
       "      <td>11</td>\n",
       "      <td>413</td>\n",
       "      <td>68.833333</td>\n",
       "    </tr>\n",
       "  </tbody>\n",
       "</table>\n",
       "</div>"
      ],
      "text/plain": [
       "         Brand                           Vehicle     Vehicle Type  \\\n",
       "228  CHEVROLET  CHEVROLET EXPRESS 3500 PASSENGER  VAN - PASSENGER   \n",
       "\n",
       "     Engine Size(L)  Cylinders Fuel Type  Fuel Consumption City (L/100 km)  \\\n",
       "228             6.0          8         E                              30.2   \n",
       "\n",
       "     Fuel Consumption Hwy (L/100 km)  Fuel Consumption Comb (L/100 km)  \\\n",
       "228                             20.5                              25.8   \n",
       "\n",
       "     Fuel Consumption Comb (mpg)  CO2 Emissions(g/km)  emissions per litre  \n",
       "228                           11                  413            68.833333  "
      ]
     },
     "execution_count": 11,
     "metadata": {},
     "output_type": "execute_result"
    }
   ],
   "source": [
    "least_fuel_efficent = df.sort_values(by=\"Fuel Consumption Comb (mpg)\", ascending=True).head(1)\n",
    "least_fuel_efficent"
   ]
  },
  {
   "cell_type": "markdown",
   "id": "28952b34-f14b-4f85-9fee-08d5e4a8a9e9",
   "metadata": {},
   "source": [
    "## Which vehicle is the worst for the environment?"
   ]
  },
  {
   "cell_type": "code",
   "execution_count": 12,
   "id": "87fdaa5a-423f-4ad4-a267-8a0321706de2",
   "metadata": {},
   "outputs": [
    {
     "data": {
      "text/html": [
       "<div>\n",
       "<style scoped>\n",
       "    .dataframe tbody tr th:only-of-type {\n",
       "        vertical-align: middle;\n",
       "    }\n",
       "\n",
       "    .dataframe tbody tr th {\n",
       "        vertical-align: top;\n",
       "    }\n",
       "\n",
       "    .dataframe thead th {\n",
       "        text-align: right;\n",
       "    }\n",
       "</style>\n",
       "<table border=\"1\" class=\"dataframe\">\n",
       "  <thead>\n",
       "    <tr style=\"text-align: right;\">\n",
       "      <th></th>\n",
       "      <th>CO2 Emissions(g/km)</th>\n",
       "    </tr>\n",
       "    <tr>\n",
       "      <th>Vehicle</th>\n",
       "      <th></th>\n",
       "    </tr>\n",
       "  </thead>\n",
       "  <tbody>\n",
       "    <tr>\n",
       "      <th>BUGATTI CHIRON</th>\n",
       "      <td>522.0</td>\n",
       "    </tr>\n",
       "  </tbody>\n",
       "</table>\n",
       "</div>"
      ],
      "text/plain": [
       "                CO2 Emissions(g/km)\n",
       "Vehicle                            \n",
       "BUGATTI CHIRON                522.0"
      ]
     },
     "execution_count": 12,
     "metadata": {},
     "output_type": "execute_result"
    }
   ],
   "source": [
    "highest_avg_emissions"
   ]
  },
  {
   "cell_type": "code",
   "execution_count": null,
   "id": "d57a0a44-1d84-4b19-9efc-3fba0c515547",
   "metadata": {},
   "outputs": [],
   "source": []
  }
 ],
 "metadata": {
  "kernelspec": {
   "display_name": "Python 3 (ipykernel)",
   "language": "python",
   "name": "python3"
  },
  "language_info": {
   "codemirror_mode": {
    "name": "ipython",
    "version": 3
   },
   "file_extension": ".py",
   "mimetype": "text/x-python",
   "name": "python",
   "nbconvert_exporter": "python",
   "pygments_lexer": "ipython3",
   "version": "3.10.12"
  }
 },
 "nbformat": 4,
 "nbformat_minor": 5
}
